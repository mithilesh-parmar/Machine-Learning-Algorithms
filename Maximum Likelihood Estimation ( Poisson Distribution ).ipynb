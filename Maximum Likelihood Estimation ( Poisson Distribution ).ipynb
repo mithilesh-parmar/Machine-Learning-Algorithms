{
 "cells": [
  {
   "cell_type": "markdown",
   "metadata": {},
   "source": [
    "### We use Maximum Likelihoood Estimation Algo to get the best point estimator for predicting the point estimates for natural parameters of a given function (Poisson Distribution Function)\n",
    "\n",
    "\n",
    "\n",
    "$$\n",
    "p(x=k) = { {{e ^ \\lambda} {\\lambda ^ k}} \\over {k!} }\n",
    "$$\n",
    "\n",
    "#### Using Maximum Likelihood Estimation Algo we'll predict the mode for population of Poisson distribution using sample of Poisson Distribution.  The function that we get after solving Maximum likelihood estimation algo for Poisson Distribution for  lambda is :\n",
    "\n",
    "###  Natural Parameter Lambda \n",
    "\n",
    "$$\n",
    "\\lambda =  { {\\sum \\limits_{i=1}^{N}} \\over {N} }\n",
    "$$"
   ]
  },
  {
   "cell_type": "code",
   "execution_count": 1,
   "metadata": {},
   "outputs": [],
   "source": [
    "import numpy as np\n",
    "import scipy.stats as s"
   ]
  },
  {
   "cell_type": "markdown",
   "metadata": {},
   "source": [
    "#### set initial lambda value which would be used as reference for comparision with the estimated value "
   ]
  },
  {
   "cell_type": "code",
   "execution_count": 20,
   "metadata": {},
   "outputs": [],
   "source": [
    "sizeOfEachSample = 100\n",
    "noOfSamples = 31\n",
    "lambdaValue = 4"
   ]
  },
  {
   "cell_type": "markdown",
   "metadata": {},
   "source": [
    "#### extract random data from poisson distribution with \n",
    "$$\n",
    "\\lambda = lambdaValue  \n",
    "$$"
   ]
  },
  {
   "cell_type": "code",
   "execution_count": 21,
   "metadata": {
    "scrolled": true
   },
   "outputs": [],
   "source": [
    "sampleDistribution = np.random.poisson(lam=lambdaValue,size=(noOfSamples,sizeOfEachSample))\n"
   ]
  },
  {
   "cell_type": "markdown",
   "metadata": {},
   "source": [
    "##### calculate point estimates from samle using formula :\n",
    "$$\n",
    "\\lambda =  { {\\sum \\limits_{i=1}^{N}} \\over {N} }\n",
    "$$"
   ]
  },
  {
   "cell_type": "code",
   "execution_count": 22,
   "metadata": {},
   "outputs": [],
   "source": [
    "pointEstimates = (np.sum(sampleDistribution,axis=1))/sizeOfEachSample\n"
   ]
  },
  {
   "cell_type": "markdown",
   "metadata": {},
   "source": [
    "#### extract out the best point estimate by taking the mean of all the point estimates calculated from above equation"
   ]
  },
  {
   "cell_type": "code",
   "execution_count": 23,
   "metadata": {},
   "outputs": [],
   "source": [
    "bestPointEstimate = np.mean(pointEstimates)"
   ]
  },
  {
   "cell_type": "code",
   "execution_count": 24,
   "metadata": {},
   "outputs": [
    {
     "name": "stdout",
     "output_type": "stream",
     "text": [
      "Estimated value of lambda is :  4.068064516129032\n",
      "Actual value of lambda is:  4\n"
     ]
    }
   ],
   "source": [
    "print(\"Estimated value of lambda is : \",bestPointEstimate)\n",
    "print(\"Actual value of lambda is: \",lambdaValue)"
   ]
  },
  {
   "cell_type": "code",
   "execution_count": null,
   "metadata": {},
   "outputs": [],
   "source": []
  }
 ],
 "metadata": {
  "kernelspec": {
   "display_name": "Python 3",
   "language": "python",
   "name": "python3"
  },
  "language_info": {
   "codemirror_mode": {
    "name": "ipython",
    "version": 3
   },
   "file_extension": ".py",
   "mimetype": "text/x-python",
   "name": "python",
   "nbconvert_exporter": "python",
   "pygments_lexer": "ipython3",
   "version": "3.6.5"
  }
 },
 "nbformat": 4,
 "nbformat_minor": 2
}
