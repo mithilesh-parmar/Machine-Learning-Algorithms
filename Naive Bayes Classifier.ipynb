{
 "cells": [
  {
   "cell_type": "code",
   "execution_count": 1,
   "metadata": {},
   "outputs": [],
   "source": [
    "import numpy as np\n",
    "import scipy.stats as s\n",
    "import pandas as pd"
   ]
  },
  {
   "cell_type": "code",
   "execution_count": 2,
   "metadata": {
    "scrolled": true
   },
   "outputs": [
    {
     "data": {
      "text/plain": [
       "(858, 36)"
      ]
     },
     "execution_count": 2,
     "metadata": {},
     "output_type": "execute_result"
    }
   ],
   "source": [
    "dataFrame = pd.read_csv(\"DataSets/cervical_cancer.csv\")\n",
    "dataFrame.shape"
   ]
  },
  {
   "cell_type": "code",
   "execution_count": 3,
   "metadata": {},
   "outputs": [],
   "source": [
    "dataFrame.drop(['STDs: Time since first diagnosis','STDs: Time since last diagnosis'],inplace=True , axis=1)"
   ]
  },
  {
   "cell_type": "code",
   "execution_count": 4,
   "metadata": {},
   "outputs": [
    {
     "data": {
      "text/plain": [
       "Age                                     0\n",
       "Number of sexual partners              26\n",
       "First sexual intercourse                7\n",
       "Num of pregnancies                     56\n",
       "Smokes                                 13\n",
       "Smokes (years)                         13\n",
       "Smokes (packs/year)                    13\n",
       "Hormonal Contraceptives               108\n",
       "Hormonal Contraceptives (years)       108\n",
       "IUD                                   117\n",
       "IUD (years)                           117\n",
       "STDs                                  105\n",
       "STDs (number)                         105\n",
       "STDs:condylomatosis                   105\n",
       "STDs:cervical condylomatosis          105\n",
       "STDs:vaginal condylomatosis           105\n",
       "STDs:vulvo-perineal condylomatosis    105\n",
       "STDs:syphilis                         105\n",
       "STDs:pelvic inflammatory disease      105\n",
       "STDs:genital herpes                   105\n",
       "STDs:molluscum contagiosum            105\n",
       "STDs:AIDS                             105\n",
       "STDs:HIV                              105\n",
       "STDs:Hepatitis B                      105\n",
       "STDs:HPV                              105\n",
       "STDs: Number of diagnosis               0\n",
       "Dx:Cancer                               0\n",
       "Dx:CIN                                  0\n",
       "Dx:HPV                                  0\n",
       "Dx                                      0\n",
       "Hinselmann                              0\n",
       "Schiller                                0\n",
       "Citology                                0\n",
       "Biopsy                                  0\n",
       "dtype: int64"
      ]
     },
     "execution_count": 4,
     "metadata": {},
     "output_type": "execute_result"
    }
   ],
   "source": [
    "# check if there exists any columns with null values\n",
    "data = pd.DataFrame(dataFrame[dataFrame[dataFrame.columns] != '?'])\n",
    "data.isna().sum()"
   ]
  },
  {
   "cell_type": "code",
   "execution_count": 5,
   "metadata": {},
   "outputs": [
    {
     "data": {
      "text/plain": [
       "Age                                    int64\n",
       "Number of sexual partners             object\n",
       "First sexual intercourse              object\n",
       "Num of pregnancies                    object\n",
       "Smokes                                object\n",
       "Smokes (years)                        object\n",
       "Smokes (packs/year)                   object\n",
       "Hormonal Contraceptives               object\n",
       "Hormonal Contraceptives (years)       object\n",
       "IUD                                   object\n",
       "IUD (years)                           object\n",
       "STDs                                  object\n",
       "STDs (number)                         object\n",
       "STDs:condylomatosis                   object\n",
       "STDs:cervical condylomatosis          object\n",
       "STDs:vaginal condylomatosis           object\n",
       "STDs:vulvo-perineal condylomatosis    object\n",
       "STDs:syphilis                         object\n",
       "STDs:pelvic inflammatory disease      object\n",
       "STDs:genital herpes                   object\n",
       "STDs:molluscum contagiosum            object\n",
       "STDs:AIDS                             object\n",
       "STDs:HIV                              object\n",
       "STDs:Hepatitis B                      object\n",
       "STDs:HPV                              object\n",
       "STDs: Number of diagnosis              int64\n",
       "Dx:Cancer                              int64\n",
       "Dx:CIN                                 int64\n",
       "Dx:HPV                                 int64\n",
       "Dx                                     int64\n",
       "Hinselmann                             int64\n",
       "Schiller                               int64\n",
       "Citology                               int64\n",
       "Biopsy                                 int64\n",
       "dtype: object"
      ]
     },
     "execution_count": 5,
     "metadata": {},
     "output_type": "execute_result"
    }
   ],
   "source": [
    "# check the datatype of the values in columns\n",
    "data.dtypes"
   ]
  },
  {
   "cell_type": "code",
   "execution_count": 6,
   "metadata": {},
   "outputs": [
    {
     "name": "stderr",
     "output_type": "stream",
     "text": [
      "/anaconda3/lib/python3.6/site-packages/ipykernel_launcher.py:1: FutureWarning: convert_objects is deprecated.  To re-infer data dtypes for object columns, use DataFrame.infer_objects()\n",
      "For all other conversions use the data-type specific converters pd.to_datetime, pd.to_timedelta and pd.to_numeric.\n",
      "  \"\"\"Entry point for launching an IPython kernel.\n"
     ]
    }
   ],
   "source": [
    "# convert all the data to numeric data\n",
    "data = data.convert_objects(convert_numeric=True)"
   ]
  },
  {
   "cell_type": "code",
   "execution_count": 7,
   "metadata": {},
   "outputs": [
    {
     "data": {
      "text/plain": [
       "Age                                     0\n",
       "Number of sexual partners              26\n",
       "First sexual intercourse                7\n",
       "Num of pregnancies                     56\n",
       "Smokes                                 13\n",
       "Smokes (years)                         13\n",
       "Smokes (packs/year)                    13\n",
       "Hormonal Contraceptives               108\n",
       "Hormonal Contraceptives (years)       108\n",
       "IUD                                   117\n",
       "IUD (years)                           117\n",
       "STDs                                  105\n",
       "STDs (number)                         105\n",
       "STDs:condylomatosis                   105\n",
       "STDs:cervical condylomatosis          105\n",
       "STDs:vaginal condylomatosis           105\n",
       "STDs:vulvo-perineal condylomatosis    105\n",
       "STDs:syphilis                         105\n",
       "STDs:pelvic inflammatory disease      105\n",
       "STDs:genital herpes                   105\n",
       "STDs:molluscum contagiosum            105\n",
       "STDs:AIDS                             105\n",
       "STDs:HIV                              105\n",
       "STDs:Hepatitis B                      105\n",
       "STDs:HPV                              105\n",
       "STDs: Number of diagnosis               0\n",
       "Dx:Cancer                               0\n",
       "Dx:CIN                                  0\n",
       "Dx:HPV                                  0\n",
       "Dx                                      0\n",
       "Hinselmann                              0\n",
       "Schiller                                0\n",
       "Citology                                0\n",
       "Biopsy                                  0\n",
       "dtype: int64"
      ]
     },
     "execution_count": 7,
     "metadata": {},
     "output_type": "execute_result"
    }
   ],
   "source": [
    "data.isnull().sum()"
   ]
  },
  {
   "cell_type": "code",
   "execution_count": 8,
   "metadata": {},
   "outputs": [
    {
     "data": {
      "text/plain": [
       "Age                                   0\n",
       "Number of sexual partners             0\n",
       "First sexual intercourse              0\n",
       "Num of pregnancies                    0\n",
       "Smokes                                0\n",
       "Smokes (years)                        0\n",
       "Smokes (packs/year)                   0\n",
       "Hormonal Contraceptives               0\n",
       "Hormonal Contraceptives (years)       0\n",
       "IUD                                   0\n",
       "IUD (years)                           0\n",
       "STDs                                  0\n",
       "STDs (number)                         0\n",
       "STDs:condylomatosis                   0\n",
       "STDs:cervical condylomatosis          0\n",
       "STDs:vaginal condylomatosis           0\n",
       "STDs:vulvo-perineal condylomatosis    0\n",
       "STDs:syphilis                         0\n",
       "STDs:pelvic inflammatory disease      0\n",
       "STDs:genital herpes                   0\n",
       "STDs:molluscum contagiosum            0\n",
       "STDs:AIDS                             0\n",
       "STDs:HIV                              0\n",
       "STDs:Hepatitis B                      0\n",
       "STDs:HPV                              0\n",
       "STDs: Number of diagnosis             0\n",
       "Dx:Cancer                             0\n",
       "Dx:CIN                                0\n",
       "Dx:HPV                                0\n",
       "Dx                                    0\n",
       "Hinselmann                            0\n",
       "Schiller                              0\n",
       "Citology                              0\n",
       "Biopsy                                0\n",
       "dtype: int64"
      ]
     },
     "execution_count": 8,
     "metadata": {},
     "output_type": "execute_result"
    }
   ],
   "source": [
    "# replace all the null values of column with mean of that column\n",
    "data.fillna(data.mean(),inplace=True)\n",
    "data.isnull().sum()"
   ]
  },
  {
   "cell_type": "code",
   "execution_count": 9,
   "metadata": {},
   "outputs": [
    {
     "name": "stdout",
     "output_type": "stream",
     "text": [
      "Exams Should Be Done  55\n",
      "Exams Should Not Be Done  803\n"
     ]
    }
   ],
   "source": [
    "# Length of each class data\n",
    "examsShouldBeDoneCount = len(data[data.Biopsy == 1 ])\n",
    "examsShouldNotBeDoneCount = len(data[data.Biopsy == 0 ])\n",
    "print(\"Exams Should Be Done \",examsShouldBeDoneCount)\n",
    "print(\"Exams Should Not Be Done \",examsShouldNotBeDoneCount)"
   ]
  },
  {
   "cell_type": "code",
   "execution_count": 10,
   "metadata": {},
   "outputs": [
    {
     "data": {
      "text/plain": [
       "94"
      ]
     },
     "execution_count": 10,
     "metadata": {},
     "output_type": "execute_result"
    }
   ],
   "source": [
    "# length of training data \n",
    "trainingDataRowNumbers = int(0.11*len(data))\n",
    "trainingDataRowNumbers"
   ]
  },
  {
   "cell_type": "code",
   "execution_count": 11,
   "metadata": {},
   "outputs": [
    {
     "name": "stdout",
     "output_type": "stream",
     "text": [
      "Exams should be done training data  (47, 34)\n",
      "Exams should not be done training data  (47, 34)\n"
     ]
    }
   ],
   "source": [
    "# Taking equal amount of both classes\n",
    "examShouldBeDoneTrainingData = pd.DataFrame(data[data.Biopsy == 1 ]).iloc[0:47]\n",
    "examShouldNotBeDoneTrainingData = pd.DataFrame(data[data.Biopsy == 0]).iloc[0:47]\n",
    "print(\"Exams should be done training data \",examShouldBeDoneTrainingData.shape)\n",
    "print(\"Exams should not be done training data \",examShouldNotBeDoneTrainingData.shape)"
   ]
  },
  {
   "cell_type": "code",
   "execution_count": 12,
   "metadata": {},
   "outputs": [
    {
     "data": {
      "text/plain": [
       "(94, 34)"
      ]
     },
     "execution_count": 12,
     "metadata": {},
     "output_type": "execute_result"
    }
   ],
   "source": [
    "# merge all the data \n",
    "trainingData = examShouldBeDoneTrainingData.append(examShouldNotBeDoneTrainingData,ignore_index=True)\n",
    "trainingData.shape"
   ]
  },
  {
   "cell_type": "code",
   "execution_count": 13,
   "metadata": {},
   "outputs": [],
   "source": [
    "# drop the class column to be predicted\n",
    "trainingData.drop([\"Biopsy\"],inplace=True,axis=1)"
   ]
  },
  {
   "cell_type": "code",
   "execution_count": 25,
   "metadata": {},
   "outputs": [
    {
     "data": {
      "text/plain": [
       "Index(['Age', 'Number of sexual partners', 'First sexual intercourse',\n",
       "       'Num of pregnancies', 'Smokes', 'Smokes (years)', 'Smokes (packs/year)',\n",
       "       'Hormonal Contraceptives', 'Hormonal Contraceptives (years)', 'IUD',\n",
       "       'IUD (years)', 'STDs', 'STDs (number)', 'STDs:condylomatosis',\n",
       "       'STDs:cervical condylomatosis', 'STDs:vaginal condylomatosis',\n",
       "       'STDs:vulvo-perineal condylomatosis', 'STDs:syphilis',\n",
       "       'STDs:pelvic inflammatory disease', 'STDs:genital herpes',\n",
       "       'STDs:molluscum contagiosum', 'STDs:AIDS', 'STDs:HIV',\n",
       "       'STDs:Hepatitis B', 'STDs:HPV', 'STDs: Number of diagnosis',\n",
       "       'Dx:Cancer', 'Dx:CIN', 'Dx:HPV', 'Dx', 'Hinselmann', 'Schiller',\n",
       "       'Citology'],\n",
       "      dtype='object')"
      ]
     },
     "execution_count": 25,
     "metadata": {},
     "output_type": "execute_result"
    }
   ],
   "source": [
    "trainingData.columns"
   ]
  },
  {
   "cell_type": "code",
   "execution_count": 15,
   "metadata": {},
   "outputs": [
    {
     "name": "stdout",
     "output_type": "stream",
     "text": [
      "Prior probablity should be done  0.5\n",
      "Prior probablity should not be done  0.5\n"
     ]
    }
   ],
   "source": [
    "# calculate the prior probablity (which should be equal so that they can be cancelled out)\n",
    "priorProbExamShouldBeDone = len(examShouldBeDoneTrainingData)/trainingDataRowNumbers\n",
    "priorProbExamShouldNotBeDone = len(examShouldNotBeDoneTrainingData)/trainingDataRowNumbers\n",
    "print(\"Prior probablity should be done \",priorProbExamShouldBeDone)\n",
    "print(\"Prior probablity should not be done \",priorProbExamShouldNotBeDone)"
   ]
  },
  {
   "cell_type": "code",
   "execution_count": 16,
   "metadata": {},
   "outputs": [
    {
     "name": "stdout",
     "output_type": "stream",
     "text": [
      "Should be done mean  (34,)\n",
      "Should not be done mean  (34,)\n"
     ]
    }
   ],
   "source": [
    "# Means of each class columns\n",
    "meanExamShouldBeDone = examShouldBeDoneTrainingData.mean()\n",
    "meanExamShouldNotBeDone = examShouldNotBeDoneTrainingData.mean()\n",
    "print(\"Should be done mean \",meanExamShouldBeDone.shape)\n",
    "print(\"Should not be done mean \",meanExamShouldNotBeDone.shape)"
   ]
  },
  {
   "cell_type": "code",
   "execution_count": 17,
   "metadata": {},
   "outputs": [
    {
     "name": "stdout",
     "output_type": "stream",
     "text": [
      "should be done (34, 34)\n",
      "should not be done (34, 34)\n"
     ]
    }
   ],
   "source": [
    "# Covariance matrix of each class \n",
    "covMatrixExamShouldBeDone = examShouldBeDoneTrainingData.cov()\n",
    "covMatruxExamShouldNotBeDone = examShouldNotBeDoneTrainingData.cov()\n",
    "print(\"should be done\",covMatrixExamShouldBeDone.shape)\n",
    "print(\"should not be done\",covMatruxExamShouldNotBeDone.shape)"
   ]
  },
  {
   "cell_type": "code",
   "execution_count": 18,
   "metadata": {},
   "outputs": [
    {
     "name": "stdout",
     "output_type": "stream",
     "text": [
      "Det should be done  0.0\n",
      "Det should not be done  0.0\n"
     ]
    }
   ],
   "source": [
    "# Calculating the determinant\n",
    "print(\"Det should be done \",np.linalg.det(np.array(covMatrixExamShouldBeDone)))\n",
    "print(\"Det should not be done \",np.linalg.det(np.array(covMatruxExamShouldNotBeDone)))"
   ]
  },
  {
   "cell_type": "code",
   "execution_count": 19,
   "metadata": {},
   "outputs": [
    {
     "name": "stdout",
     "output_type": "stream",
     "text": [
      "Pooled Cov Matrix (34, 34)\n"
     ]
    }
   ],
   "source": [
    "# Calculating the pooled covariance matrix\n",
    "dfShouldBeDone = len(examShouldBeDoneTrainingData) - 1\n",
    "dfShouldNotBeDone = len(examShouldNotBeDoneTrainingData) - 1\n",
    "pooledCovMatrix = (dfShouldBeDone * covMatrixExamShouldBeDone + dfShouldNotBeDone * covMatruxExamShouldNotBeDone ) / dfShouldBeDone + dfShouldNotBeDone\n",
    "print(\"Pooled Cov Matrix\",pooledCovMatrix.shape)"
   ]
  },
  {
   "cell_type": "code",
   "execution_count": 20,
   "metadata": {},
   "outputs": [
    {
     "data": {
      "text/plain": [
       "0.0"
      ]
     },
     "execution_count": 20,
     "metadata": {},
     "output_type": "execute_result"
    }
   ],
   "source": [
    "# Again caclculating the determinant\n",
    "np.linalg.det(pooledCovMatrix)"
   ]
  },
  {
   "cell_type": "code",
   "execution_count": 34,
   "metadata": {},
   "outputs": [
    {
     "name": "stdout",
     "output_type": "stream",
     "text": [
      "Resularized Cov Matrix  (34, 34)\n"
     ]
    }
   ],
   "source": [
    "# Using regularized analysis approach (RDA)\n",
    "alpha = 0.8\n",
    "regularizedCovMatrix = alpha * pooledCovMatrix + (1-alpha) * pooledCovMatrix\n",
    "print(\"Resularized Cov Matrix \",regularizedCovMatrix.shape)"
   ]
  },
  {
   "cell_type": "code",
   "execution_count": 35,
   "metadata": {},
   "outputs": [
    {
     "data": {
      "text/plain": [
       "0.0"
      ]
     },
     "execution_count": 35,
     "metadata": {},
     "output_type": "execute_result"
    }
   ],
   "source": [
    "# Again calculating determinant of RDA extracted matrix \n",
    "np.linalg.det(regularizedCovMatrix)"
   ]
  },
  {
   "cell_type": "code",
   "execution_count": 23,
   "metadata": {},
   "outputs": [
    {
     "name": "stdout",
     "output_type": "stream",
     "text": [
      "A (34, 34)\n",
      "B (34,)\n",
      "C (34, 34)\n"
     ]
    }
   ],
   "source": [
    "# Applying PCA\n",
    "covData = data.cov() # Taking the covariance of full data Frame\n",
    "a , b, c = np.linalg.svd(covData) # Applying single value decomposition\n",
    "print(\"A\",a.shape) # Orthogonal matrix\n",
    "print(\"B\" ,b.shape)# eigen value matrix containing variances in decreasing order for each column\n",
    "print(\"C\" , c.shape)# trancpose of orthogonal matrix"
   ]
  },
  {
   "cell_type": "code",
   "execution_count": 24,
   "metadata": {},
   "outputs": [
    {
     "data": {
      "text/plain": [
       "array([[-9.69643268e-01,  1.14971800e-01,  1.01415100e-01, ...,\n",
       "        -2.56827077e-17,  3.03291621e-18, -7.07962901e-20],\n",
       "       [-1.73613444e-02, -8.01420372e-02, -1.24704458e-02, ...,\n",
       "         1.77896840e-17,  3.04764888e-18,  3.74289199e-19],\n",
       "       [-1.22188097e-01,  1.64385461e-01,  2.14604165e-01, ...,\n",
       "         2.38542165e-17, -5.51454152e-18,  2.37693968e-19],\n",
       "       ...,\n",
       "       [-3.52563991e-03, -3.74620483e-03, -4.14952449e-03, ...,\n",
       "        -2.21513483e-16,  1.84242872e-17, -2.99936020e-17],\n",
       "       [ 3.30564851e-04,  3.87204039e-05, -5.24930548e-03, ...,\n",
       "        -8.74848446e-16, -8.25177275e-17,  1.52103621e-18],\n",
       "       [-1.74554724e-03, -2.36004066e-03, -4.53510197e-03, ...,\n",
       "         5.24331228e-16,  9.13990519e-17,  2.32205089e-17]])"
      ]
     },
     "execution_count": 24,
     "metadata": {},
     "output_type": "execute_result"
    }
   ],
   "source": [
    "a"
   ]
  },
  {
   "cell_type": "code",
   "execution_count": null,
   "metadata": {},
   "outputs": [],
   "source": []
  }
 ],
 "metadata": {
  "kernelspec": {
   "display_name": "Python 3",
   "language": "python",
   "name": "python3"
  },
  "language_info": {
   "codemirror_mode": {
    "name": "ipython",
    "version": 3
   },
   "file_extension": ".py",
   "mimetype": "text/x-python",
   "name": "python",
   "nbconvert_exporter": "python",
   "pygments_lexer": "ipython3",
   "version": "3.6.5"
  }
 },
 "nbformat": 4,
 "nbformat_minor": 2
}
