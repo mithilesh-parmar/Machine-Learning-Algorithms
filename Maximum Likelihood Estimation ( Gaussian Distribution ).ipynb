{
 "cells": [
  {
   "cell_type": "markdown",
   "metadata": {},
   "source": [
    "### We use Maximum Likelihoood Estimation Algo to get the best point estimator for predicting the best point estimates for natural parameters of a given function "
   ]
  },
  {
   "cell_type": "markdown",
   "metadata": {},
   "source": [
    "#### The function for Gaussian Distribution is :\n",
    "\n",
    "$$ p(x=k)  = {1 \\over \\sqrt {2 \\pi} \\sigma }  e - ^  { {x - \\mu }^2 \\over {2 \\sigma}^2 } $$\n",
    "\n",
    "#### Using Maximum Likelihood Estimation Algo we'll predict the mode for population of Gaussian distribution using sample of Gaussian Distribution.  The function that we get after solving Maximum likelihood estimation algo for Gaussain Distribution for  mean and for Standard Deviation is :\n",
    "\n",
    "###  Mean \n",
    "\n",
    "$$ \\mu = { \\sum \\limits_{i=1}^{N} {x_i} \\over {N} } $$\n",
    "\n",
    "### Deviation\n",
    "\n",
    "$$ \\sigma = { \\sqrt { \\sum \\limits_{i=1}^{N} {(x_i - \\mu) }^2 \\over {N} } } $$"
   ]
  },
  {
   "cell_type": "code",
   "execution_count": 1,
   "metadata": {},
   "outputs": [],
   "source": [
    "import numpy as np\n",
    "import scipy.stats as s"
   ]
  },
  {
   "cell_type": "markdown",
   "metadata": {},
   "source": [
    "#### Set mean and standard deviation which will be used to get sample distribution from a population distribution created from these values and further would be used for comaparision with predicted values"
   ]
  },
  {
   "cell_type": "code",
   "execution_count": 21,
   "metadata": {},
   "outputs": [],
   "source": [
    "mean = 8\n",
    "standardDeviation = 2\n",
    "sizeOfEachSample = 100\n",
    "noOfSamples = 33"
   ]
  },
  {
   "cell_type": "markdown",
   "metadata": {},
   "source": [
    "#### Draw out a sample distributions (i.e. in total distributions drawn out = noOfSamples ) from population of size = sizeOfEachSample  "
   ]
  },
  {
   "cell_type": "code",
   "execution_count": 22,
   "metadata": {},
   "outputs": [
    {
     "name": "stdout",
     "output_type": "stream",
     "text": [
      "[[ 5.7290896   9.24648744  8.7434832  ... 11.06247009  5.96050121\n",
      "   5.56458667]\n",
      " [ 6.24770141  2.55473266  6.40127009 ...  8.67355547  6.27525666\n",
      "   7.52616708]\n",
      " [ 9.51562369  7.30455585  4.24455526 ...  5.67607816 13.94926387\n",
      "   9.29681564]\n",
      " ...\n",
      " [ 8.78885333  7.46422408 11.21465865 ...  7.26328776  7.92023534\n",
      "   7.71995132]\n",
      " [ 5.98400298  7.47868212  6.58555043 ...  8.37692221  9.42379113\n",
      "   7.83825328]\n",
      " [ 5.18286553  7.69580005  8.32508105 ...  7.99430483  6.53053836\n",
      "   8.45222003]]\n"
     ]
    }
   ],
   "source": [
    "sampleDistribution = np.random.normal(loc = mean , scale= standardDeviation, size = (noOfSamples,sizeOfEachSample))\n",
    "print(sampleDistribution)"
   ]
  },
  {
   "cell_type": "markdown",
   "metadata": {},
   "source": [
    "#### Find the point estimates for mean using formula :\n",
    "$$ \\mu = { \\sum \\limits_{i=1}^{N} {x_i} \\over {N} } $$"
   ]
  },
  {
   "cell_type": "code",
   "execution_count": 23,
   "metadata": {},
   "outputs": [
    {
     "name": "stdout",
     "output_type": "stream",
     "text": [
      "[7.76382447 7.83634481 7.91536073 7.8279005  7.7147808  7.97699479\n",
      " 8.02890663 8.12260022 8.05515308 7.98334124 8.10378265 8.12052946\n",
      " 7.8904538  8.20818225 7.96426383 8.11049453 8.12848177 8.27307126\n",
      " 8.30474482 7.81417677 8.38985408 7.64830886 7.89052186 8.33316747\n",
      " 7.94269183 8.13898256 7.84485078 8.17832902 7.96653434 8.06547124\n",
      " 8.31133059 7.82280981 7.91521061]\n"
     ]
    }
   ],
   "source": [
    "pointEstimatesForMean = np.sum(sampleDistribution,axis=1)\n",
    "pointEstimatesForMean = pointEstimatesForMean / sizeOfEachSample\n",
    "print(pointEstimatesForMean)"
   ]
  },
  {
   "cell_type": "code",
   "execution_count": 24,
   "metadata": {},
   "outputs": [
    {
     "data": {
      "text/plain": [
       "(33,)"
      ]
     },
     "execution_count": 24,
     "metadata": {},
     "output_type": "execute_result"
    }
   ],
   "source": [
    "pointEstimatesForMean.shape"
   ]
  },
  {
   "cell_type": "markdown",
   "metadata": {},
   "source": [
    "#### Find the best point estimate by taking mean of all the point estimates calculated "
   ]
  },
  {
   "cell_type": "code",
   "execution_count": 25,
   "metadata": {},
   "outputs": [
    {
     "name": "stdout",
     "output_type": "stream",
     "text": [
      "8.017922771534744\n"
     ]
    }
   ],
   "source": [
    "bestPointEstimateForMean = np.mean(pointEstimatesForMean)\n",
    "print(bestPointEstimateForMean)"
   ]
  },
  {
   "cell_type": "markdown",
   "metadata": {},
   "source": [
    "#### Find the point estimates for standard deviation by using formula : \n",
    "$$ \\sigma = { \\sqrt { \\sum \\limits_{i=1}^{N} {(x_i - \\mu) }^2 \\over {N} } } $$"
   ]
  },
  {
   "cell_type": "code",
   "execution_count": 26,
   "metadata": {},
   "outputs": [
    {
     "name": "stdout",
     "output_type": "stream",
     "text": [
      "[2.06046997 1.86705223 2.29706617 2.18849625 2.19231862 2.05718508\n",
      " 2.03023498 2.25910951 1.96574383 2.1645984  1.95605748 1.93383307\n",
      " 2.03174509 1.92645652 1.90700934 1.97360833 2.03313163 1.9987278\n",
      " 1.96267962 1.99654194 1.95833131 1.79171348 2.15333123 2.02661006\n",
      " 1.85051832 2.01516881 1.93746318 2.06516115 2.1269884  2.10508861\n",
      " 2.06394533 1.96051127 1.93337782]\n"
     ]
    }
   ],
   "source": [
    "pointEstimatesForStandardDeviation = np.sqrt(np.sum(((sampleDistribution - bestPointEstimateForMean) ** 2)/sizeOfEachSample,axis =1))\n",
    "print(pointEstimatesForStandardDeviation)"
   ]
  },
  {
   "cell_type": "markdown",
   "metadata": {},
   "source": [
    "#### Find the best point estimate by taking mean of all the point estimates calculated"
   ]
  },
  {
   "cell_type": "code",
   "execution_count": 27,
   "metadata": {},
   "outputs": [
    {
     "name": "stdout",
     "output_type": "stream",
     "text": [
      "2.0239477214333386\n"
     ]
    }
   ],
   "source": [
    "bestPointEstimateForStandardDeviation = np.mean(pointEstimatesForStandardDeviation)\n",
    "print(bestPointEstimateForStandardDeviation)"
   ]
  },
  {
   "cell_type": "markdown",
   "metadata": {},
   "source": [
    "#### We find the values for mean and standard deviation are 8.01 and 2.02 which are very close the initial values provided"
   ]
  },
  {
   "cell_type": "code",
   "execution_count": null,
   "metadata": {},
   "outputs": [],
   "source": []
  }
 ],
 "metadata": {
  "kernelspec": {
   "display_name": "Python 3",
   "language": "python",
   "name": "python3"
  },
  "language_info": {
   "codemirror_mode": {
    "name": "ipython",
    "version": 3
   },
   "file_extension": ".py",
   "mimetype": "text/x-python",
   "name": "python",
   "nbconvert_exporter": "python",
   "pygments_lexer": "ipython3",
   "version": "3.6.5"
  }
 },
 "nbformat": 4,
 "nbformat_minor": 2
}
