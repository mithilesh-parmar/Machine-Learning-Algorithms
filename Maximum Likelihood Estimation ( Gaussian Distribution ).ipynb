{
 "cells": [
  {
   "cell_type": "markdown",
   "metadata": {},
   "source": [
    "### We use Maximum Likelihoood Estimation Algo to get the best point estimator for predicting the best point estimates for natural parameters of a given function "
   ]
  },
  {
   "cell_type": "markdown",
   "metadata": {},
   "source": [
    "#### The function for Gaussian Distribution is :\n",
    "\n",
    "$$ \n",
    "p(x=k)  = {1 \\over \\sqrt {2 \\pi} \\sigma }  e - ^  { {x - \\mu }^2 \\over {2 \\sigma}^2 }\n",
    "$$\n",
    "\n",
    "#### Using Maximum Likelihood Estimation Algo we'll predict the mode for population of Gaussian distribution using sample of Gaussian Distribution.  The function that we get after solving Maximum likelihood estimation algo for Gaussain Distribution for  mean and for Standard Deviation is :\n",
    "\n",
    "###  Mean \n",
    "\n",
    "$$ \n",
    "\\mu = { \\sum \\limits_{i=1}^{N} {x_i} \\over {N} } \n",
    "$$\n",
    "\n",
    "### Deviation\n",
    "\n",
    "$$ \n",
    "\\sigma = { \\sqrt { \\sum \\limits_{i=1}^{N} {(x_i - \\mu) }^2 \\over {N} } }\n",
    "$$"
   ]
  },
  {
   "cell_type": "code",
   "execution_count": 2,
   "metadata": {},
   "outputs": [],
   "source": [
    "import numpy as np\n",
    "import scipy.stats as s"
   ]
  },
  {
   "cell_type": "markdown",
   "metadata": {},
   "source": [
    "#### Set mean and standard deviation which will be used to get sample distribution from a population distribution created from these values and further would be used for comaparision with predicted values"
   ]
  },
  {
   "cell_type": "code",
   "execution_count": 3,
   "metadata": {},
   "outputs": [],
   "source": [
    "mean = 8\n",
    "standardDeviation = 2\n",
    "sizeOfEachSample = 100\n",
    "noOfSamples = 33"
   ]
  },
  {
   "cell_type": "markdown",
   "metadata": {},
   "source": [
    "#### Draw out a sample distributions (i.e. in total distributions drawn out = noOfSamples ) from population of size = sizeOfEachSample  "
   ]
  },
  {
   "cell_type": "code",
   "execution_count": 4,
   "metadata": {},
   "outputs": [],
   "source": [
    "sampleDistribution = np.random.normal(loc = mean , scale= standardDeviation, size = (noOfSamples,sizeOfEachSample))"
   ]
  },
  {
   "cell_type": "markdown",
   "metadata": {},
   "source": [
    "#### Find the point estimates for mean using formula :\n",
    "$$ \n",
    "\\mu = { \\sum \\limits_{i=1}^{N} {x_i} \\over {N} }\n",
    "$$"
   ]
  },
  {
   "cell_type": "code",
   "execution_count": 5,
   "metadata": {},
   "outputs": [],
   "source": [
    "pointEstimatesForMean = np.sum(sampleDistribution,axis=1)\n",
    "pointEstimatesForMean = pointEstimatesForMean / sizeOfEachSample"
   ]
  },
  {
   "cell_type": "markdown",
   "metadata": {},
   "source": [
    "#### Find the best point estimate by taking mean of all the point estimates calculated "
   ]
  },
  {
   "cell_type": "code",
   "execution_count": 6,
   "metadata": {},
   "outputs": [],
   "source": [
    "bestPointEstimateForMean = np.mean(pointEstimatesForMean)"
   ]
  },
  {
   "cell_type": "markdown",
   "metadata": {},
   "source": [
    "#### Find the point estimates for standard deviation by using formula : \n",
    "$$\n",
    "\\sigma = { \\sqrt { \\sum \\limits_{i=1}^{N} {(x_i - \\mu) }^2 \\over {N} } }\n",
    "$$"
   ]
  },
  {
   "cell_type": "code",
   "execution_count": 7,
   "metadata": {},
   "outputs": [],
   "source": [
    "pointEstimatesForStandardDeviation = np.sqrt(np.sum(((sampleDistribution - bestPointEstimateForMean) ** 2)/sizeOfEachSample,axis =1))"
   ]
  },
  {
   "cell_type": "markdown",
   "metadata": {},
   "source": [
    "#### Find the best point estimate by taking mean of all the point estimates calculated"
   ]
  },
  {
   "cell_type": "code",
   "execution_count": 8,
   "metadata": {},
   "outputs": [],
   "source": [
    "bestPointEstimateForStandardDeviation = np.mean(pointEstimatesForStandardDeviation)"
   ]
  },
  {
   "cell_type": "code",
   "execution_count": 9,
   "metadata": {},
   "outputs": [
    {
     "name": "stdout",
     "output_type": "stream",
     "text": [
      "Estimated value of standard deviation is :  2.004269514159669\n",
      "Actual value of standard deviation is:  2\n",
      "Estimated value of mean is :  8.052303683963414\n",
      "Actual value of mean is:  8\n"
     ]
    }
   ],
   "source": [
    "print(\"Estimated value of standard deviation is : \",bestPointEstimateForStandardDeviation)\n",
    "print(\"Actual value of standard deviation is: \",standardDeviation)\n",
    "\n",
    "print(\"Estimated value of mean is : \",bestPointEstimateForMean)\n",
    "print(\"Actual value of mean is: \",mean)"
   ]
  },
  {
   "cell_type": "code",
   "execution_count": null,
   "metadata": {},
   "outputs": [],
   "source": []
  }
 ],
 "metadata": {
  "kernelspec": {
   "display_name": "Python 3",
   "language": "python",
   "name": "python3"
  },
  "language_info": {
   "codemirror_mode": {
    "name": "ipython",
    "version": 3
   },
   "file_extension": ".py",
   "mimetype": "text/x-python",
   "name": "python",
   "nbconvert_exporter": "python",
   "pygments_lexer": "ipython3",
   "version": "3.6.5"
  }
 },
 "nbformat": 4,
 "nbformat_minor": 2
}
