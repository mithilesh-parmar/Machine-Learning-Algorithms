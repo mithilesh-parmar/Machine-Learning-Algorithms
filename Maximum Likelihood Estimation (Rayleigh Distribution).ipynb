{
 "cells": [
  {
   "cell_type": "markdown",
   "metadata": {},
   "source": [
    "#### The function for RayLeigh Distribution is :\n",
    "\n",
    "$$\n",
    "p(x=k)  = [{x \\over \\sigma^2}e -^ { x^2 \\over 2 \\sigma ^2} ] \n",
    "$$\n",
    "\n",
    "#### Using Maximum Likelihood Estimation Algo we'll predict the mode for population of Raylegih distribution using sample of Rayliegh Distribution.  The function that we get after solving Maximum likelihood estimation algo for RayLeigh Distribution is :\n",
    "$$\n",
    "\\sigma  = \\sqrt{ \\sum\\limits_{i=1}^{N}{x_i} \\over 2N }\n",
    "$$\n",
    "#### where\n",
    "$$\n",
    "\\sigma (mode of distribution )\n",
    "$$\n",
    "$$\n",
    "N (size of each sample taken from distribution)\n",
    "$$ \n"
   ]
  },
  {
   "cell_type": "code",
   "execution_count": 1,
   "metadata": {},
   "outputs": [],
   "source": [
    "import numpy as np\n",
    "import scipy.stats as s"
   ]
  },
  {
   "cell_type": "code",
   "execution_count": 2,
   "metadata": {},
   "outputs": [],
   "source": [
    "mode = 8\n",
    "sizeOfEachSample = 1000\n",
    "noOfSamples = 300"
   ]
  },
  {
   "cell_type": "markdown",
   "metadata": {},
   "source": [
    "#### The rayleigh distribution from which we extract out samples has a mode of 8 this will be used as a reference to see if the predicted mode from Maximum Likelihood algo is correct\n",
    "####  we extract out some samples (noOfSamples) which are each of size = sizeOfEachSample "
   ]
  },
  {
   "cell_type": "code",
   "execution_count": 3,
   "metadata": {},
   "outputs": [],
   "source": [
    "sample_distribution = np.random.rayleigh(scale = mode ,size= (noOfSamples,sizeOfEachSample) )"
   ]
  },
  {
   "cell_type": "markdown",
   "metadata": {},
   "source": [
    "####  Solving : \n",
    "$$\n",
    "X_I ^ 2\n",
    "$$"
   ]
  },
  {
   "cell_type": "code",
   "execution_count": 4,
   "metadata": {
    "scrolled": true
   },
   "outputs": [],
   "source": [
    "squareOfEachRow = sample_distribution**2"
   ]
  },
  {
   "cell_type": "markdown",
   "metadata": {},
   "source": [
    "#### Solving : $$  \\sum \\limits_{i =1}^ {N(sizeOfEachSample)} {x_i ^ 2} $$"
   ]
  },
  {
   "cell_type": "code",
   "execution_count": 5,
   "metadata": {
    "scrolled": true
   },
   "outputs": [],
   "source": [
    "summationOfEachRow = np.sum(squareOfEachRow,axis=1)"
   ]
  },
  {
   "cell_type": "markdown",
   "metadata": {},
   "source": [
    "#### Solving :  \n",
    "$$  \n",
    "\\sum \\limits_{i =1}^ {N(sizeOfEachSample)} {x_i ^ 2} \\over 2*N(sizeOfEachSample) \n",
    "$$ "
   ]
  },
  {
   "cell_type": "code",
   "execution_count": 6,
   "metadata": {
    "scrolled": true
   },
   "outputs": [],
   "source": [
    "underootValue = summationOfEachRow/(2*sizeOfEachSample)"
   ]
  },
  {
   "cell_type": "markdown",
   "metadata": {},
   "source": [
    "#### Solving : $$ \\sqrt{ \\sum \\limits_{i =1}^ {N(sizeOfEachSample)} {x_i ^ 2} \\over 2*N(sizeOfEachSample) } $$"
   ]
  },
  {
   "cell_type": "code",
   "execution_count": 7,
   "metadata": {
    "scrolled": true
   },
   "outputs": [],
   "source": [
    "pointEstimates = np.sqrt(underootValue)"
   ]
  },
  {
   "cell_type": "markdown",
   "metadata": {},
   "source": [
    "#### Estimating the best point estimate of all the point estimates that we got by taking the mean of all the point estimates"
   ]
  },
  {
   "cell_type": "code",
   "execution_count": 9,
   "metadata": {},
   "outputs": [],
   "source": [
    "bestPointEstimate = np.mean(pointEstimates)"
   ]
  },
  {
   "cell_type": "code",
   "execution_count": 10,
   "metadata": {},
   "outputs": [
    {
     "name": "stdout",
     "output_type": "stream",
     "text": [
      "Estimated value of mode is :  7.997950572485324\n",
      "Actual value of mode is:  8\n"
     ]
    }
   ],
   "source": [
    "print(\"Estimated value of mode is : \",bestPointEstimate)\n",
    "print(\"Actual value of mode is: \",mode)"
   ]
  },
  {
   "cell_type": "code",
   "execution_count": null,
   "metadata": {},
   "outputs": [],
   "source": []
  }
 ],
 "metadata": {
  "kernelspec": {
   "display_name": "Python 3",
   "language": "python",
   "name": "python3"
  },
  "language_info": {
   "codemirror_mode": {
    "name": "ipython",
    "version": 3
   },
   "file_extension": ".py",
   "mimetype": "text/x-python",
   "name": "python",
   "nbconvert_exporter": "python",
   "pygments_lexer": "ipython3",
   "version": "3.6.5"
  }
 },
 "nbformat": 4,
 "nbformat_minor": 2
}
